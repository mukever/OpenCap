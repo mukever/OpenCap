{
 "cells": [
  {
   "cell_type": "code",
   "execution_count": 3,
   "metadata": {},
   "outputs": [],
   "source": [
    "%matplotlib notebook\n",
    "# import d2lzh as d2l\n",
    "from PIL import Image\n",
    "import matplotlib.pyplot as plt\n",
    "import matplotlib.image as mpimg"
   ]
  },
  {
   "cell_type": "code",
   "execution_count": 4,
   "metadata": {},
   "outputs": [
    {
     "name": "stdout",
     "output_type": "stream",
     "text": [
      "total 44512\n",
      "drwxr-xr-x 2 root root     4096 Nov  3 14:59 .\n",
      "drwxr-xr-x 3 root root     4096 Nov  3 14:49 ..\n",
      "-rw-r--r-- 1 root root 45535232 Oct 12 06:50 caffe.caffemodel\n",
      "-rw-r--r-- 1 root root    20754 Oct 12 06:50 deploy.prototxt\n",
      "-rw-r--r-- 1 root root     6148 Nov  3 15:01 .DS_Store\n",
      "-rw-r--r-- 1 root root       73 Oct 12 06:50 label-map.txt\n",
      "/\n"
     ]
    }
   ],
   "source": [
    "! ls -al models/caffemodel\n",
    "! pwd"
   ]
  },
  {
   "cell_type": "code",
   "execution_count": 6,
   "metadata": {},
   "outputs": [],
   "source": [
    "import os\n",
    "import caffe\n",
    "caffe.set_mode_cpu()\n",
    "import numpy as np\n",
    "BASE_DIR = os.path.dirname(os.path.dirname(os.path.abspath('__file__')))\n",
    "deploy = os.path.join(BASE_DIR, 'models/caffemodel/deploy.prototxt')  # deploy文件\n",
    "caffe_model = os.path.join(BASE_DIR, 'models/caffemodel/caffe.caffemodel')  # 训练好的 caffemodel\n",
    "labels_filename = os.path.join(BASE_DIR, 'models/caffemodel/label-map.txt')  # 类别名称文件，将数字标签转换回类别名称\n",
    "LABELS = np.loadtxt(labels_filename, str, delimiter='\\n')   #读取类别名称文件\n",
    "CAFFENET = caffe.Net(deploy, caffe_model, caffe.TEST)  # 加载model和network\n",
    "\n",
    "# 图片预处理设置\n",
    "Transformer = caffe.io.Transformer({'data': CAFFENET.blobs['data'].data.shape})  # 设定图片的shape格式(1,3,28,28)\n",
    "Transformer.set_transpose('data', (2, 0, 1))  # 改变维度的顺序，由原始图片(28,28,3)变为(3,28,28)\n",
    "Transformer.set_mean('data', np.array([104, 117, 123]))  # 减去均值，前面训练模型时没有减均值，这儿就不用\n",
    "Transformer.set_raw_scale('data', 255)  # 缩放到【0，255】之间\n",
    "Transformer.set_channel_swap('data', (2, 1, 0))  # 交换通道，将图片由RGB变为BGR\n"
   ]
  },
  {
   "cell_type": "code",
   "execution_count": 9,
   "metadata": {},
   "outputs": [],
   "source": [
    "! rm -rf TEST/.DS_Store"
   ]
  },
  {
   "cell_type": "code",
   "execution_count": 10,
   "metadata": {},
   "outputs": [],
   "source": [
    "TEST_IMG_PATH = 'TEST'\n"
   ]
  },
  {
   "cell_type": "code",
   "execution_count": 12,
   "metadata": {},
   "outputs": [
    {
     "name": "stdout",
     "output_type": "stream",
     "text": [
      "79RG------\n"
     ]
    },
    {
     "data": {
      "image/png": "[encoded data removed]",
      "text/plain": [
       "<PIL.JpegImagePlugin.JpegImageFile image mode=RGB size=90x32 at 0x7FEAB7C21F60>"
      ]
     },
     "metadata": {},
     "output_type": "display_data"
    },
    {
     "name": "stdout",
     "output_type": "stream",
     "text": [
      "NGEF------\n"
     ]
    },
    {
     "data": {
      "image/png": "[encoded data removed]",
      "text/plain": [
       "<PIL.PngImagePlugin.PngImageFile image mode=RGB size=100x40 at 0x7FEAB73519B0>"
      ]
     },
     "metadata": {},
     "output_type": "display_data"
    },
    {
     "name": "stdout",
     "output_type": "stream",
     "text": [
      "YQ8V------\n"
     ]
    },
    {
     "data": {
      "image/png": "[encoded data removed]",
      "text/plain": [
       "<PIL.JpegImagePlugin.JpegImageFile image mode=RGB size=70x26 at 0x7FEAB732B198>"
      ]
     },
     "metadata": {},
     "output_type": "display_data"
    },
    {
     "name": "stdout",
     "output_type": "stream",
     "text": [
      "GGFK------\n"
     ]
    },
    {
     "data": {
      "image/png": "[encoded data removed]",
      "text/plain": [
       "<PIL.JpegImagePlugin.JpegImageFile image mode=RGB size=100x30 at 0x7FEAB73519B0>"
      ]
     },
     "metadata": {},
     "output_type": "display_data"
    },
    {
     "name": "stdout",
     "output_type": "stream",
     "text": [
      "QNKKD-----\n"
     ]
    },
    {
     "data": {
      "image/png": "[encoded data removed]",
      "text/plain": [
       "<PIL.PngImagePlugin.PngImageFile image mode=P size=100x40 at 0x7FEAB732B198>"
      ]
     },
     "metadata": {},
     "output_type": "display_data"
    },
    {
     "name": "stdout",
     "output_type": "stream",
     "text": [
      "N8SE------\n"
     ]
    },
    {
     "data": {
      "image/png": "[encoded data removed]",
      "text/plain": [
       "<PIL.PngImagePlugin.PngImageFile image mode=RGBA size=130x52 at 0x7FEAB731DFD0>"
      ]
     },
     "metadata": {},
     "output_type": "display_data"
    }
   ],
   "source": [
    "image_files_list = os.listdir(TEST_IMG_PATH)\n",
    "for image_file_name in image_files_list:\n",
    "    im = caffe.io.load_image(os.path.join(TEST_IMG_PATH,image_file_name))  # 加载图片\n",
    "    ### detail\n",
    "    CAFFENET.blobs['data'].data[...] = Transformer.preprocess('data', im)  # 执行上面设置的图片预处理操作，并将图片载入到blob中\n",
    "    ### predict\n",
    "    CAFFENET.forward()\n",
    "    Predisct = \"\"\n",
    "    pre_st = 0\n",
    "    for i in range(1, 11):\n",
    "        # print('---------------------\\n',net.blobs['fc1000'+str(i)].data)\n",
    "        prob = CAFFENET.blobs['fc1000' + str(i)].data[0].flatten()  # 取出最后一层（Softmax）属于某个类别的概率值，并打印\n",
    "        # print (prob)\n",
    "        order = prob.argsort()[-1]  # 将概率值排序，取出最大值所在的序号\n",
    "        # print(order)\n",
    "        Predisct+=LABELS[order]  # 将该序号转换成对应的类别名称，并打印\n",
    "    image = Image.open(os.path.join(TEST_IMG_PATH,image_file_name))\n",
    "    print(Predisct)\n",
    "    display(image)"
   ]
  },
  {
   "cell_type": "code",
   "execution_count": null,
   "metadata": {},
   "outputs": [],
   "source": []
  }
 ],
 "metadata": {
  "kernelspec": {
   "display_name": "Python 3",
   "language": "python",
   "name": "python3"
  },
  "language_info": {
   "codemirror_mode": {
    "name": "ipython",
    "version": 3
   },
   "file_extension": ".py",
   "mimetype": "text/x-python",
   "name": "python",
   "nbconvert_exporter": "python",
   "pygments_lexer": "ipython3",
   "version": "3.6.7"
  }
 },
 "nbformat": 4,
 "nbformat_minor": 2
}
